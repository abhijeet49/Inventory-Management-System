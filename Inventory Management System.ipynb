{
 "cells": [
  {
   "cell_type": "markdown",
   "metadata": {},
   "source": [
    "# Initializing record with 30 products"
   ]
  },
  {
   "cell_type": "code",
   "execution_count": 53,
   "metadata": {},
   "outputs": [],
   "source": [
    "record={1990501: {\"Name\":\"Vim Dishwash Bar\", \"Manufacturer\":\"Hindustan Uniliver\", \"Quantity\":95, \"MRP\":20, \"Discount(%)\": 0},\n",
    "  1990502: {\"Name\":\"Vim Dishwash liquid\", \"Manufacturer\":\"Hindustan Uniliver\", \"Quantity\":52, \"MRP\":45, \"Discount(%)\": 0},\n",
    "  1990503: {\"Name\":\"Colin Spray\", \"Manufacturer\":\"Reckitt & Colman\", \"Quantity\":66, \"MRP\":50, \"Discount(%)\": 0},\n",
    "  1990504: {\"Name\":\"Surf Excel Detergent powder\", \"Manufacturer\":\"Hindustan Uniliver\", \"Quantity\":112, \"MRP\":150, \"Discount(%)\": 5},\n",
    "  1990505: {\"Name\":\"Ariel Matic Detergent powder\", \"Manufacturer\":\"Procter & Gamble\", \"Quantity\":200, \"MRP\":220, \"Discount(%)\": 0},\n",
    "  1990506: {\"Name\":\"Lizol Surface Cleaner\", \"Manufacturer\":\"Reckitt Benckiser\", \"Quantity\":75, \"MRP\":100, \"Discount(%)\": 0},\n",
    "  1990507: {\"Name\":\"Harpic Toilet Cleaner\", \"Manufacturer\":\"Reckitt Benckiser\", \"Quantity\":110, \"MRP\":168, \"Discount(%)\": 9},\n",
    "  1990508: {\"Name\":\"Dottol Hardwash\", \"Manufacturer\":\"Reckitt Benckiser\", \"Quantity\":200, \"MRP\":209, \"Discount(%)\": 5},\n",
    "  1990509: {\"Name\":\"Dettol Antiseptic Liquid\", \"Manufacturer\":\"Reckitt Benckiser\", \"Quantity\":42, \"MRP\":152, \"Discount(%)\": 0},\n",
    "  1990510: {\"Name\":\"lifebuoy Hand Sanitizer\", \"Manufacturer\":\"Unilever global company\", \"Quantity\":204, \"MRP\":25, \"Discount(%)\": 0},\n",
    "  1990511: {\"Name\":\"Cadbury Dairy Milk\", \"Manufacturer\":\"Cadbury India\", \"Quantity\":116, \"MRP\":40, \"Discount(%)\": 4},\n",
    "  1990512: {\"Name\":\"Cadbury Gems\", \"Manufacturer\":\"Cadbury India\", \"Quantity\":140, \"MRP\":20, \"Discount(%)\": 0},\n",
    "  1990513: {\"Name\":\"Cadbury Five Star\", \"Manufacturer\":\"Cadbury India\", \"Quantity\":72, \"MRP\":20, \"Discount(%)\": 5},\n",
    "  1990514: {\"Name\":\"Cadbury Perk\", \"Manufacturer\":\"Cadbury India\", \"Quantity\":119, \"MRP\":10, \"Discount(%)\": 0},\n",
    "  1990515: {\"Name\":\"KitKat wafers\", \"Manufacturer\":\"Nestle India\", \"Quantity\":174, \"MRP\":20, \"Discount(%)\": 4},\n",
    "  1990516: {\"Name\":\"Nestle Munch\", \"Manufacturer\":\"Nestle India\", \"Quantity\":73, \"MRP\":10, \"Discount(%)\": 0},\n",
    "  1990517: {\"Name\":\"Lays Potato Chips - Masala Magic\", \"Manufacturer\":\"PepsiCo India\", \"Quantity\":92, \"MRP\":20, \"Discount(%)\": 0},\n",
    "  1990518: {\"Name\":\"Lays Potato Chips - Spanish Tomato Tango\", \"Manufacturer\":\"PepsiCo India\", \"Quantity\":105, \"MRP\":20, \"Discount(%)\": 0},\n",
    "  1990519: {\"Name\":\"Lays Potato Chips - American Style Cream & Onion\", \"Manufacturer\":\"PepsiCo India\", \"Quantity\":99, \"MRP\":20, \"Discount(%)\": 0},\n",
    "  1990520: {\"Name\":\"Lays Potato Chips - Chips Classic Salted\", \"Manufacturer\":\"PepsiCo India\", \"Quantity\":69, \"MRP\":20, \"Discount(%)\": 0},\n",
    "  1990521: {\"Name\":\"Kurkure Snacks - Masala Munch\", \"Manufacturer\":\"PepsiCo India\", \"Quantity\":91, \"MRP\":20, \"Discount(%)\": 0},\n",
    "  1990522: {\"Name\":\"Kurkure Snacks - Chilli Chatka\", \"Manufacturer\":\"PepsiCo India\", \"Quantity\":72, \"MRP\":20, \"Discount(%)\": 0},\n",
    "  1990523: {\"Name\":\"Kurkure Snacks - Dreen Chutney\", \"Manufacturer\":\"PepsiCo India\", \"Quantity\":24, \"MRP\":20, \"Discount(%)\": 0},\n",
    "  1990524: {\"Name\":\"Cadbury Oreo\", \"Manufacturer\":\"Cadbury India\", \"Quantity\":88, \"MRP\":60, \"Discount(%)\": 6},\n",
    "  1990525: {\"Name\":\"Britania Good Day Buscuit\", \"Manufacturer\":\"Britannia Industries Limited\", \"Quantity\":117, \"MRP\":30, \"Discount(%)\": 0},\n",
    "  1990526: {\"Name\":\"Parle-G biscuit\", \"Manufacturer\":\"Parle Products\", \"Quantity\":100, \"MRP\":10, \"Discount(%)\": 0},\n",
    "  1990527: {\"Name\":\"kellogg's corn flakes\", \"Manufacturer\":\"Battle Creek Toasted Corn Flake Company\", \"Quantity\":52, \"MRP\":310, \"Discount(%)\": 11},\n",
    "  1990528: {\"Name\":\"kellogg's Chocos\", \"Manufacturer\":\"Battle Creek Toasted Corn Flake Company\", \"Quantity\":67, \"MRP\":470, \"Discount(%)\": 13},\n",
    "  1990529: {\"Name\":\"Coca-Cola Soft Drink\", \"Manufacturer\":\"The Coca-Cola Company\", \"Quantity\":24, \"MRP\":90, \"Discount(%)\": 8},\n",
    "  1990530: {\"Name\":\"Thumbs Up Soft Drink\", \"Manufacturer\":\"The Coca-Cola Company\", \"Quantity\":20, \"MRP\":65, \"Discount(%)\": 5}\n",
    "}"
   ]
  },
  {
   "cell_type": "code",
   "execution_count": 54,
   "metadata": {},
   "outputs": [
    {
     "data": {
      "text/plain": [
       "{1990501: {'Name': 'Vim Dishwash Bar',\n",
       "  'Manufacturer': 'Hindustan Uniliver',\n",
       "  'Quantity': 95,\n",
       "  'MRP': 20,\n",
       "  'Discount(%)': 0},\n",
       " 1990502: {'Name': 'Vim Dishwash liquid',\n",
       "  'Manufacturer': 'Hindustan Uniliver',\n",
       "  'Quantity': 52,\n",
       "  'MRP': 45,\n",
       "  'Discount(%)': 0},\n",
       " 1990503: {'Name': 'Colin Spray',\n",
       "  'Manufacturer': 'Reckitt & Colman',\n",
       "  'Quantity': 66,\n",
       "  'MRP': 50,\n",
       "  'Discount(%)': 0},\n",
       " 1990504: {'Name': 'Surf Excel Detergent powder',\n",
       "  'Manufacturer': 'Hindustan Uniliver',\n",
       "  'Quantity': 112,\n",
       "  'MRP': 150,\n",
       "  'Discount(%)': 5},\n",
       " 1990505: {'Name': 'Ariel Matic Detergent powder',\n",
       "  'Manufacturer': 'Procter & Gamble',\n",
       "  'Quantity': 200,\n",
       "  'MRP': 220,\n",
       "  'Discount(%)': 0},\n",
       " 1990506: {'Name': 'Lizol Surface Cleaner',\n",
       "  'Manufacturer': 'Reckitt Benckiser',\n",
       "  'Quantity': 75,\n",
       "  'MRP': 100,\n",
       "  'Discount(%)': 0},\n",
       " 1990507: {'Name': 'Harpic Toilet Cleaner',\n",
       "  'Manufacturer': 'Reckitt Benckiser',\n",
       "  'Quantity': 110,\n",
       "  'MRP': 168,\n",
       "  'Discount(%)': 9},\n",
       " 1990508: {'Name': 'Dottol Hardwash',\n",
       "  'Manufacturer': 'Reckitt Benckiser',\n",
       "  'Quantity': 200,\n",
       "  'MRP': 209,\n",
       "  'Discount(%)': 5},\n",
       " 1990509: {'Name': 'Dettol Antiseptic Liquid',\n",
       "  'Manufacturer': 'Reckitt Benckiser',\n",
       "  'Quantity': 42,\n",
       "  'MRP': 152,\n",
       "  'Discount(%)': 0},\n",
       " 1990510: {'Name': 'lifebuoy Hand Sanitizer',\n",
       "  'Manufacturer': 'Unilever global company',\n",
       "  'Quantity': 204,\n",
       "  'MRP': 25,\n",
       "  'Discount(%)': 0},\n",
       " 1990511: {'Name': 'Cadbury Dairy Milk',\n",
       "  'Manufacturer': 'Cadbury India',\n",
       "  'Quantity': 116,\n",
       "  'MRP': 40,\n",
       "  'Discount(%)': 4},\n",
       " 1990512: {'Name': 'Cadbury Gems',\n",
       "  'Manufacturer': 'Cadbury India',\n",
       "  'Quantity': 140,\n",
       "  'MRP': 20,\n",
       "  'Discount(%)': 0},\n",
       " 1990513: {'Name': 'Cadbury Five Star',\n",
       "  'Manufacturer': 'Cadbury India',\n",
       "  'Quantity': 72,\n",
       "  'MRP': 20,\n",
       "  'Discount(%)': 5},\n",
       " 1990514: {'Name': 'Cadbury Perk',\n",
       "  'Manufacturer': 'Cadbury India',\n",
       "  'Quantity': 119,\n",
       "  'MRP': 10,\n",
       "  'Discount(%)': 0},\n",
       " 1990515: {'Name': 'KitKat wafers',\n",
       "  'Manufacturer': 'Nestle India',\n",
       "  'Quantity': 174,\n",
       "  'MRP': 20,\n",
       "  'Discount(%)': 4},\n",
       " 1990516: {'Name': 'Nestle Munch',\n",
       "  'Manufacturer': 'Nestle India',\n",
       "  'Quantity': 73,\n",
       "  'MRP': 10,\n",
       "  'Discount(%)': 0},\n",
       " 1990517: {'Name': 'Lays Potato Chips - Masala Magic',\n",
       "  'Manufacturer': 'PepsiCo India',\n",
       "  'Quantity': 92,\n",
       "  'MRP': 20,\n",
       "  'Discount(%)': 0},\n",
       " 1990518: {'Name': 'Lays Potato Chips - Spanish Tomato Tango',\n",
       "  'Manufacturer': 'PepsiCo India',\n",
       "  'Quantity': 105,\n",
       "  'MRP': 20,\n",
       "  'Discount(%)': 0},\n",
       " 1990519: {'Name': 'Lays Potato Chips - American Style Cream & Onion',\n",
       "  'Manufacturer': 'PepsiCo India',\n",
       "  'Quantity': 99,\n",
       "  'MRP': 20,\n",
       "  'Discount(%)': 0},\n",
       " 1990520: {'Name': 'Lays Potato Chips - Chips Classic Salted',\n",
       "  'Manufacturer': 'PepsiCo India',\n",
       "  'Quantity': 69,\n",
       "  'MRP': 20,\n",
       "  'Discount(%)': 0},\n",
       " 1990521: {'Name': 'Kurkure Snacks - Masala Munch',\n",
       "  'Manufacturer': 'PepsiCo India',\n",
       "  'Quantity': 91,\n",
       "  'MRP': 20,\n",
       "  'Discount(%)': 0},\n",
       " 1990522: {'Name': 'Kurkure Snacks - Chilli Chatka',\n",
       "  'Manufacturer': 'PepsiCo India',\n",
       "  'Quantity': 72,\n",
       "  'MRP': 20,\n",
       "  'Discount(%)': 0},\n",
       " 1990523: {'Name': 'Kurkure Snacks - Dreen Chutney',\n",
       "  'Manufacturer': 'PepsiCo India',\n",
       "  'Quantity': 24,\n",
       "  'MRP': 20,\n",
       "  'Discount(%)': 0},\n",
       " 1990524: {'Name': 'Cadbury Oreo',\n",
       "  'Manufacturer': 'Cadbury India',\n",
       "  'Quantity': 88,\n",
       "  'MRP': 60,\n",
       "  'Discount(%)': 6},\n",
       " 1990525: {'Name': 'Britania Good Day Buscuit',\n",
       "  'Manufacturer': 'Britannia Industries Limited',\n",
       "  'Quantity': 117,\n",
       "  'MRP': 30,\n",
       "  'Discount(%)': 0},\n",
       " 1990526: {'Name': 'Parle-G biscuit',\n",
       "  'Manufacturer': 'Parle Products',\n",
       "  'Quantity': 100,\n",
       "  'MRP': 10,\n",
       "  'Discount(%)': 0},\n",
       " 1990527: {'Name': \"kellogg's corn flakes\",\n",
       "  'Manufacturer': 'Battle Creek Toasted Corn Flake Company',\n",
       "  'Quantity': 52,\n",
       "  'MRP': 310,\n",
       "  'Discount(%)': 11},\n",
       " 1990528: {'Name': \"kellogg's Chocos\",\n",
       "  'Manufacturer': 'Battle Creek Toasted Corn Flake Company',\n",
       "  'Quantity': 67,\n",
       "  'MRP': 470,\n",
       "  'Discount(%)': 13},\n",
       " 1990529: {'Name': 'Coca-Cola Soft Drink',\n",
       "  'Manufacturer': 'The Coca-Cola Company',\n",
       "  'Quantity': 24,\n",
       "  'MRP': 90,\n",
       "  'Discount(%)': 8},\n",
       " 1990530: {'Name': 'Thumbs Up Soft Drink',\n",
       "  'Manufacturer': 'The Coca-Cola Company',\n",
       "  'Quantity': 20,\n",
       "  'MRP': 65,\n",
       "  'Discount(%)': 5}}"
      ]
     },
     "execution_count": 54,
     "metadata": {},
     "output_type": "execute_result"
    }
   ],
   "source": [
    "record"
   ]
  },
  {
   "cell_type": "markdown",
   "metadata": {},
   "source": [
    "# Adding record to records.json file"
   ]
  },
  {
   "cell_type": "code",
   "execution_count": 55,
   "metadata": {},
   "outputs": [],
   "source": [
    "import json\n",
    "js= json.dumps(record)\n",
    "\n",
    "fp= open(\"records.json\",'w')\n",
    "fp.write(js)\n",
    "fp.close()"
   ]
  },
  {
   "cell_type": "markdown",
   "metadata": {},
   "source": [
    "# Main Code"
   ]
  },
  {
   "cell_type": "code",
   "execution_count": 63,
   "metadata": {},
   "outputs": [
    {
     "name": "stdout",
     "output_type": "stream",
     "text": [
      "----Inventory Management System----\n",
      " 1. View Inventaory\n",
      " 2. Add Item to Inventory\n",
      " 3. Delete Item from Inventory\n",
      " 4. Purchase Product\n",
      "Enter your choice: 4\n",
      "Enter product ID: 1990524\n",
      "Enter product Quantity: 10\n",
      "Product Name: Cadbury Oreo\n",
      "Product MRP: 60\n",
      "Product Amount:  564.0\n",
      "{'1990501': {'Name': 'Vim Dishwash Bar', 'Manufacturer': 'Hindustan Uniliver', 'Quantity': 95, 'MRP': 20, 'Discount(%)': 0}, '1990502': {'Name': 'Vim Dishwash liquid', 'Manufacturer': 'Hindustan Uniliver', 'Quantity': 52, 'MRP': 45, 'Discount(%)': 0}, '1990503': {'Name': 'Colin Spray', 'Manufacturer': 'Reckitt & Colman', 'Quantity': 66, 'MRP': 50, 'Discount(%)': 0}, '1990504': {'Name': 'Surf Excel Detergent powder', 'Manufacturer': 'Hindustan Uniliver', 'Quantity': 112, 'MRP': 150, 'Discount(%)': 5}, '1990505': {'Name': 'Ariel Matic Detergent powder', 'Manufacturer': 'Procter & Gamble', 'Quantity': 200, 'MRP': 220, 'Discount(%)': 0}, '1990506': {'Name': 'Lizol Surface Cleaner', 'Manufacturer': 'Reckitt Benckiser', 'Quantity': 75, 'MRP': 100, 'Discount(%)': 0}, '1990507': {'Name': 'Harpic Toilet Cleaner', 'Manufacturer': 'Reckitt Benckiser', 'Quantity': 110, 'MRP': 168, 'Discount(%)': 9}, '1990508': {'Name': 'Dottol Hardwash', 'Manufacturer': 'Reckitt Benckiser', 'Quantity': 200, 'MRP': 209, 'Discount(%)': 5}, '1990509': {'Name': 'Dettol Antiseptic Liquid', 'Manufacturer': 'Reckitt Benckiser', 'Quantity': 42, 'MRP': 152, 'Discount(%)': 0}, '1990510': {'Name': 'lifebuoy Hand Sanitizer', 'Manufacturer': 'Unilever global company', 'Quantity': 204, 'MRP': 25, 'Discount(%)': 0}, '1990511': {'Name': 'Cadbury Dairy Milk', 'Manufacturer': 'Cadbury India', 'Quantity': 116, 'MRP': 40, 'Discount(%)': 4}, '1990512': {'Name': 'Cadbury Gems', 'Manufacturer': 'Cadbury India', 'Quantity': 140, 'MRP': 20, 'Discount(%)': 0}, '1990513': {'Name': 'Cadbury Five Star', 'Manufacturer': 'Cadbury India', 'Quantity': 72, 'MRP': 20, 'Discount(%)': 5}, '1990514': {'Name': 'Cadbury Perk', 'Manufacturer': 'Cadbury India', 'Quantity': 119, 'MRP': 10, 'Discount(%)': 0}, '1990515': {'Name': 'KitKat wafers', 'Manufacturer': 'Nestle India', 'Quantity': 172, 'MRP': 20, 'Discount(%)': 4}, '1990516': {'Name': 'Nestle Munch', 'Manufacturer': 'Nestle India', 'Quantity': 73, 'MRP': 10, 'Discount(%)': 0}, '1990517': {'Name': 'Lays Potato Chips - Masala Magic', 'Manufacturer': 'PepsiCo India', 'Quantity': 92, 'MRP': 20, 'Discount(%)': 0}, '1990518': {'Name': 'Lays Potato Chips - Spanish Tomato Tango', 'Manufacturer': 'PepsiCo India', 'Quantity': 105, 'MRP': 20, 'Discount(%)': 0}, '1990519': {'Name': 'Lays Potato Chips - American Style Cream & Onion', 'Manufacturer': 'PepsiCo India', 'Quantity': 99, 'MRP': 20, 'Discount(%)': 0}, '1990520': {'Name': 'Lays Potato Chips - Chips Classic Salted', 'Manufacturer': 'PepsiCo India', 'Quantity': 69, 'MRP': 20, 'Discount(%)': 0}, '1990521': {'Name': 'Kurkure Snacks - Masala Munch', 'Manufacturer': 'PepsiCo India', 'Quantity': 88, 'MRP': 20, 'Discount(%)': 0}, '1990522': {'Name': 'Kurkure Snacks - Chilli Chatka', 'Manufacturer': 'PepsiCo India', 'Quantity': 72, 'MRP': 20, 'Discount(%)': 0}, '1990523': {'Name': 'Kurkure Snacks - Dreen Chutney', 'Manufacturer': 'PepsiCo India', 'Quantity': 24, 'MRP': 20, 'Discount(%)': 0}, '1990524': {'Name': 'Cadbury Oreo', 'Manufacturer': 'Cadbury India', 'Quantity': 78, 'MRP': 60, 'Discount(%)': 6}, '1990525': {'Name': 'Britania Good Day Buscuit', 'Manufacturer': 'Britannia Industries Limited', 'Quantity': 117, 'MRP': 30, 'Discount(%)': 0}, '1990526': {'Name': 'Parle-G biscuit', 'Manufacturer': 'Parle Products', 'Quantity': 100, 'MRP': 10, 'Discount(%)': 0}, '1990527': {'Name': \"kellogg's corn flakes\", 'Manufacturer': 'Battle Creek Toasted Corn Flake Company', 'Quantity': 52, 'MRP': 310, 'Discount(%)': 11}, '1990528': {'Name': \"kellogg's Chocos\", 'Manufacturer': 'Battle Creek Toasted Corn Flake Company', 'Quantity': 67, 'MRP': 470, 'Discount(%)': 13}, '1990529': {'Name': 'Coca-Cola Soft Drink', 'Manufacturer': 'The Coca-Cola Company', 'Quantity': 24, 'MRP': 90, 'Discount(%)': 8}, '1990530': {'Name': 'Thumbs Up Soft Drink', 'Manufacturer': 'The Coca-Cola Company', 'Quantity': 20, 'MRP': 65, 'Discount(%)': 5}}\n"
     ]
    }
   ],
   "source": [
    "import time\n",
    "import os.path\n",
    "\n",
    "def read_file(fileName):\n",
    "    fp= open(fileName,'r')\n",
    "    r= fp.read()\n",
    "    fp.close()\n",
    "    record= json.loads(r)\n",
    "    return record\n",
    "\n",
    "def write_file(fileName, data):\n",
    "    js= json.dumps(data)\n",
    "    fp= open(fileName,'w')\n",
    "    fp.write(js)\n",
    "    fp.close()\n",
    "    \n",
    "print(\"----Inventory Management System----\")\n",
    "print(\" 1. View Inventaory\")\n",
    "print(\" 2. Add Item to Inventory\")\n",
    "print(\" 3. Delete Item from Inventory\")\n",
    "print(\" 4. Purchase Product\")\n",
    "\n",
    "choice=int(input(\"Enter your choice: \"))\n",
    "\n",
    "if(choice==1):\n",
    "    record=read_file(\"records.json\")\n",
    "    print(record)\n",
    "\n",
    "elif(choice==2):\n",
    "      pId= str(input(\"Enter product ID: \"))\n",
    "      pName= str(input(\"Enter product Name: \"))\n",
    "      pMnf= str(input(\"Enter product Manufacturer: \"))\n",
    "      pQnt= int(input(\"Enter product Quantity: \"))\n",
    "      pPrice= int(input(\"Enter product MRP: \"))\n",
    "      pDiscount= int(input(\"Enter product Discount(%): \"))\n",
    "      \n",
    "      record= read_file(\"records.json\")\n",
    "      record[pId]={\"Name\":pName, \"Manufacturer\":pMnf, \"Quantity\":pQnt, \"MRP\":pPrice, \"Discount\":pDiscount}\n",
    "      print(record)\n",
    "      write_file(\"records.json\", record)\n",
    "      \n",
    "elif(choice==3):\n",
    "      pId= str(input(\"Enter product ID to be deleted: \"))\n",
    "      record= read_file(\"records.json\")\n",
    "      if(pId in record.keys()):\n",
    "          del record[pId]\n",
    "          print(record)\n",
    "          write_file(\"records.json\", record)\n",
    "      else:\n",
    "          print(\"Invalid Product Key!!\")\n",
    "      \n",
    "elif(choice==4):\n",
    "      pId= str(input(\"Enter product ID: \"))\n",
    "      pQnt= int(input(\"Enter product Quantity: \"))\n",
    "      \n",
    "      record= read_file(\"records.json\")\n",
    "      if(not(pId in record.keys())):\n",
    "         print(\"Invalid Product key!!\")\n",
    "      elif(pQnt > record[pId][\"Quantity\"]):\n",
    "          print(\"Quantity Entered Exceeds limit!!\")\n",
    "          print(\"Available Quantity: \", record[pId][\"Quantity\"])\n",
    "      else:\n",
    "          print(\"Product Name:\", record[pId][\"Name\"])\n",
    "          print(\"Product MRP:\", record[pId][\"MRP\"])\n",
    "      \n",
    "          amount= (record[pId][\"MRP\"]*pQnt)*(1-(record[pId][\"Discount(%)\"]/100))\n",
    "          print(\"Product Amount: \",amount)\n",
    "          \n",
    "          localtime= time.asctime(time.localtime(time.time()))\n",
    "          history= {}\n",
    "          sale= {}\n",
    "          key= 1\n",
    "          if(os.path.isfile(\"Purchase_History.json\")):\n",
    "                history= read_file(\"Purchase_History.json\")\n",
    "                key= key+(int(list(history)[-1]))\n",
    "    \n",
    "          history[key]={\"Product ID\":pId, \"Purchase Time\":localtime}\n",
    "          write_file(\"Purchase_History.json\",history)\n",
    "          \n",
    "          key=1\n",
    "          if(os.path.isfile(\"Sales.json\")):\n",
    "                sale= read_file(\"Sales.json\")\n",
    "                key= key+(int(list(sale)[-1]))\n",
    "          \n",
    "          sale[key]= {\"Product ID\":pId, \"Quantity\":pQnt, \"Amount\":amount}\n",
    "          write_file(\"Sales.json\", sale) \n",
    "          record[pId][\"Quantity\"]= record[pId][\"Quantity\"]-pQnt\n",
    "      \n",
    "          print(record)\n",
    "          write_file(\"records.json\", record)"
   ]
  },
  {
   "cell_type": "markdown",
   "metadata": {},
   "source": [
    "# Sales JSON File"
   ]
  },
  {
   "cell_type": "code",
   "execution_count": 64,
   "metadata": {},
   "outputs": [],
   "source": [
    "fp= open(\"Sales.json\",'r')\n",
    "r= fp.read()\n",
    "fp.close()\n",
    "sale= json.loads(r)"
   ]
  },
  {
   "cell_type": "code",
   "execution_count": 65,
   "metadata": {},
   "outputs": [
    {
     "data": {
      "text/plain": [
       "{'1': {'Product ID': '1990521', 'Quantity': 3, 'Amount': 60.0},\n",
       " '2': {'Product ID': '1990515', 'Quantity': 2, 'Amount': 38.4},\n",
       " '3': {'Product ID': '1990524', 'Quantity': 10, 'Amount': 564.0}}"
      ]
     },
     "execution_count": 65,
     "metadata": {},
     "output_type": "execute_result"
    }
   ],
   "source": [
    "sale"
   ]
  },
  {
   "cell_type": "markdown",
   "metadata": {},
   "source": [
    "# Purchase_history JSON File"
   ]
  },
  {
   "cell_type": "code",
   "execution_count": 66,
   "metadata": {},
   "outputs": [],
   "source": [
    "fp= open(\"Purchase_History.json\",'r')\n",
    "r= fp.read()\n",
    "fp.close()\n",
    "history= json.loads(r)"
   ]
  },
  {
   "cell_type": "code",
   "execution_count": 67,
   "metadata": {},
   "outputs": [
    {
     "data": {
      "text/plain": [
       "{'1': {'Product ID': '1990521', 'Purchase Time': 'Sat Sep  4 23:39:07 2021'},\n",
       " '2': {'Product ID': '1990515', 'Purchase Time': 'Sat Sep  4 23:53:56 2021'},\n",
       " '3': {'Product ID': '1990524', 'Purchase Time': 'Sat Sep  4 23:55:32 2021'}}"
      ]
     },
     "execution_count": 67,
     "metadata": {},
     "output_type": "execute_result"
    }
   ],
   "source": [
    "history"
   ]
  },
  {
   "cell_type": "code",
   "execution_count": null,
   "metadata": {},
   "outputs": [],
   "source": []
  }
 ],
 "metadata": {
  "kernelspec": {
   "display_name": "Python 3",
   "language": "python",
   "name": "python3"
  },
  "language_info": {
   "codemirror_mode": {
    "name": "ipython",
    "version": 3
   },
   "file_extension": ".py",
   "mimetype": "text/x-python",
   "name": "python",
   "nbconvert_exporter": "python",
   "pygments_lexer": "ipython3",
   "version": "3.8.5"
  }
 },
 "nbformat": 4,
 "nbformat_minor": 4
}
